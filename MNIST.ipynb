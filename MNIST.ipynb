{
 "cells": [
  {
   "cell_type": "markdown",
   "metadata": {},
   "source": [
    "# Importing Libraries"
   ]
  },
  {
   "cell_type": "code",
   "execution_count": null,
   "metadata": {
    "_cell_guid": "79c7e3d0-c299-4dcb-8224-4455121ee9b0",
    "_uuid": "d629ff2d2480ee46fbb7e2d37f6b5fab8052498a"
   },
   "outputs": [],
   "source": [
    "import numpy as np\n",
    "import keras\n",
    "from keras.utils import np_utils\n",
    "from sklearn.model_selection import train_test_split\n",
    "from keras.preprocessing.image import ImageDataGenerator \n",
    "import tensorflow.keras.layers as Layers\n",
    "import tensorflow.keras.models as Models\n",
    "import sklearn.utils as shuffle\n",
    "import matplotlib.pyplot as plt\n",
    "import pandas as pd\n",
    "import seaborn as sns\n",
    "from keras.callbacks import LearningRateScheduler"
   ]
  },
  {
   "cell_type": "markdown",
   "metadata": {},
   "source": [
    "**Loading data**"
   ]
  },
  {
   "cell_type": "code",
   "execution_count": null,
   "metadata": {},
   "outputs": [],
   "source": [
    "train = pd.read_csv(\"../input/digit-recognizer/train.csv\")\n",
    "test = pd.read_csv(\"../input/digit-recognizer/test.csv\")"
   ]
  },
  {
   "cell_type": "code",
   "execution_count": null,
   "metadata": {},
   "outputs": [],
   "source": [
    "train.head()"
   ]
  },
  {
   "cell_type": "markdown",
   "metadata": {},
   "source": [
    "**Visualizing predicting label**"
   ]
  },
  {
   "cell_type": "code",
   "execution_count": null,
   "metadata": {},
   "outputs": [],
   "source": [
    "plt.figure(figsize = (15,15))\n",
    "sns.catplot(x = 'label', kind = 'count' ,data = train, palette = \"pastel\")\n",
    "plt.title(\"Distribution according to label\")\n",
    "plt.show()"
   ]
  },
  {
   "cell_type": "code",
   "execution_count": null,
   "metadata": {},
   "outputs": [],
   "source": [
    "y = train[\"label\"]\n",
    "train.drop([\"label\"], axis = 1, inplace = True)"
   ]
  },
  {
   "cell_type": "code",
   "execution_count": null,
   "metadata": {},
   "outputs": [],
   "source": [
    "train.head()"
   ]
  },
  {
   "cell_type": "code",
   "execution_count": null,
   "metadata": {},
   "outputs": [],
   "source": [
    "y.head()"
   ]
  },
  {
   "cell_type": "code",
   "execution_count": null,
   "metadata": {},
   "outputs": [],
   "source": [
    "y.unique()"
   ]
  },
  {
   "cell_type": "code",
   "execution_count": null,
   "metadata": {},
   "outputs": [],
   "source": [
    "y = np_utils.to_categorical(y, 10)"
   ]
  },
  {
   "cell_type": "code",
   "execution_count": null,
   "metadata": {},
   "outputs": [],
   "source": [
    "y.shape"
   ]
  },
  {
   "cell_type": "code",
   "execution_count": null,
   "metadata": {},
   "outputs": [],
   "source": [
    "train.shape"
   ]
  },
  {
   "cell_type": "markdown",
   "metadata": {},
   "source": [
    "# Visualizing Images"
   ]
  },
  {
   "cell_type": "code",
   "execution_count": null,
   "metadata": {},
   "outputs": [],
   "source": [
    "def image_show(train):\n",
    "    fig = plt.figure(figsize = (20,20))\n",
    "    fig.suptitle(\"Few Images from the dataset\")\n",
    "    for i in range(15):\n",
    "        index = np.random.randint(train.shape[0])\n",
    "        plt.subplot(10,10,i+1)\n",
    "        plt.imshow(train[index][:,:, 0])\n",
    "        plt.xticks([])\n",
    "        plt.yticks([])\n",
    "        plt.grid(False)\n",
    "    plt.show()  "
   ]
  },
  {
   "cell_type": "code",
   "execution_count": null,
   "metadata": {},
   "outputs": [],
   "source": [
    "train = train.values.reshape(-1,28,28,1)"
   ]
  },
  {
   "cell_type": "code",
   "execution_count": null,
   "metadata": {},
   "outputs": [],
   "source": [
    "test = test.values.reshape(-1,28,28,1)"
   ]
  },
  {
   "cell_type": "code",
   "execution_count": null,
   "metadata": {},
   "outputs": [],
   "source": [
    "image_show(train)"
   ]
  },
  {
   "cell_type": "code",
   "execution_count": null,
   "metadata": {},
   "outputs": [],
   "source": [
    "train = train / 255"
   ]
  },
  {
   "cell_type": "code",
   "execution_count": null,
   "metadata": {},
   "outputs": [],
   "source": [
    "test = test / 255"
   ]
  },
  {
   "cell_type": "markdown",
   "metadata": {},
   "source": [
    "**Image Augmentation**"
   ]
  },
  {
   "cell_type": "code",
   "execution_count": null,
   "metadata": {},
   "outputs": [],
   "source": [
    "image_generator= ImageDataGenerator(rotation_range = 10,zoom_range = 0.10,width_shift_range=0.1,height_shift_range=0.1)\n"
   ]
  },
  {
   "cell_type": "markdown",
   "metadata": {},
   "source": [
    "# CNN Network"
   ]
  },
  {
   "cell_type": "code",
   "execution_count": null,
   "metadata": {},
   "outputs": [],
   "source": [
    "model = [0] * 10\n",
    "for i in range(10):\n",
    "    model[i] = Models.Sequential()\n",
    "    model[i].add(Layers.Conv2D(64, kernel_size = 3, activation='relu', input_shape = (28, 28, 1)))\n",
    "    model[i].add(Layers.BatchNormalization())\n",
    "    model[i].add(Layers.Conv2D(64, kernel_size = 3, activation='relu'))\n",
    "    model[i].add(Layers.BatchNormalization())\n",
    "    model[i].add(Layers.Conv2D(64, kernel_size = 5, strides=2, padding='same', activation='relu'))\n",
    "    model[i].add(Layers.BatchNormalization())\n",
    "    model[i].add(Layers.Dropout(0.4))\n",
    "    model[i].add(Layers.Conv2D(128, kernel_size = 3, activation='relu'))\n",
    "    model[i].add(Layers.BatchNormalization())\n",
    "    model[i].add(Layers.Conv2D(128, kernel_size = 3, activation='relu'))\n",
    "    model[i].add(Layers.BatchNormalization())\n",
    "    model[i].add(Layers.Conv2D(128, kernel_size = 5, strides=2, padding='same', activation='relu'))\n",
    "    model[i].add(Layers.BatchNormalization())\n",
    "    model[i].add(Layers.Dropout(0.4))\n",
    "    model[i].add(Layers.Conv2D(256, kernel_size = 4, activation='relu'))\n",
    "    model[i].add(Layers.BatchNormalization())\n",
    "    model[i].add(Layers.Flatten())\n",
    "    model[i].add(Layers.Dense(512, activation = 'relu'))\n",
    "    model[i].add(Layers.Dropout(0.4))\n",
    "    model[i].add(Layers.Dense(10, activation='softmax'))\n",
    "    model[i].compile(optimizer=\"adam\", loss=\"categorical_crossentropy\", metrics=[\"accuracy\"])"
   ]
  },
  {
   "cell_type": "code",
   "execution_count": null,
   "metadata": {
    "_kg_hide-input": false,
    "_kg_hide-output": false
   },
   "outputs": [],
   "source": [
    "call_back =  LearningRateScheduler(lambda x: 1e-3 * 0.95 ** x)\n",
    "history = [0] * 10\n",
    "epochs = 30\n",
    "for i in range(10):\n",
    "    train_x, val_x, train_y, val_y = train_test_split(train, y, test_size = 0.1)\n",
    "    history[i] = model[i].fit_generator(image_generator.flow(train_x,train_y, batch_size= 64),\n",
    "        epochs = 30, steps_per_epoch = (train_x.shape[0]// 64) ,  \n",
    "        validation_data = (val_x,val_y), callbacks=[call_back], verbose= 0)\n",
    "    print(\"CNN {0:d}: Epochs={1:d}, Train accuracy={2:.5f}, Validation accuracy={3:.5f}\".format(\n",
    "        i+1,epochs,max(history[i].history['accuracy']),max(history[i].history['val_accuracy']) ))\n"
   ]
  },
  {
   "cell_type": "markdown",
   "metadata": {},
   "source": [
    "# Prediction"
   ]
  },
  {
   "cell_type": "code",
   "execution_count": null,
   "metadata": {},
   "outputs": [],
   "source": [
    "results = np.zeros((test.shape[0],10)) \n",
    "for i in range(10):\n",
    "    results = results + model[i].predict(test)\n",
    "results = np.argmax(results,axis = 1)\n",
    "results = pd.Series(results,name=\"Label\")\n",
    "submission = pd.concat([pd.Series(range(1,28001),name = \"ImageId\"),results],axis = 1)\n",
    "submission.to_csv(\"MNIST.csv\",index=False)"
   ]
  },
  {
   "cell_type": "markdown",
   "metadata": {},
   "source": [
    "**If you like please upvote**"
   ]
  }
 ],
 "metadata": {
  "kernelspec": {
   "display_name": "Python 3",
   "language": "python",
   "name": "python3"
  },
  "language_info": {
   "codemirror_mode": {
    "name": "ipython",
    "version": 3
   },
   "file_extension": ".py",
   "mimetype": "text/x-python",
   "name": "python",
   "nbconvert_exporter": "python",
   "pygments_lexer": "ipython3",
   "version": "3.7.4"
  }
 },
 "nbformat": 4,
 "nbformat_minor": 4
}
